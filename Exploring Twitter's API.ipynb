{
 "cells": [
  {
   "cell_type": "markdown",
   "metadata": {},
   "source": [
    "# Exploring Twitter's API\n",
    "\n",
    "Making use of:\n",
    "* **Tweepy** (http://www.tweepy.org/): an easy-to-use Python library for accessing the Twitter API\n",
    "* **TextBlob** (https://textblob.readthedocs.io): library for processing textual data. It provides a simple API for diving into common natural language processing (NLP) tasks such as part-of-speech tagging, noun phrase extraction, sentiment analysis, classification, translation, and more"
   ]
  },
  {
   "cell_type": "code",
   "execution_count": null,
   "metadata": {
    "collapsed": true
   },
   "outputs": [],
   "source": [
    "import tweepy\n",
    "import json\n",
    "from textblob import TextBlob"
   ]
  },
  {
   "cell_type": "code",
   "execution_count": 3,
   "metadata": {
    "collapsed": true
   },
   "outputs": [],
   "source": [
    "data = json.load(open('twitter-api-keys.json'))"
   ]
  },
  {
   "cell_type": "code",
   "execution_count": 5,
   "metadata": {
    "collapsed": true
   },
   "outputs": [],
   "source": [
    "from tweepy import OAuthHandler\n",
    "from tweepy import API \n",
    "\n",
    "auth = OAuthHandler(data['consumer_key'], \n",
    "                    data['consumer_secret'])\n",
    "\n",
    "auth.set_access_token(data['access_token'],\n",
    "                      data['access_token_secret'])\n",
    "\n",
    "api = API(auth)"
   ]
  },
  {
   "cell_type": "code",
   "execution_count": null,
   "metadata": {
    "collapsed": true
   },
   "outputs": [],
   "source": [
    "tweets = api.search('Trump')"
   ]
  },
  {
   "cell_type": "code",
   "execution_count": null,
   "metadata": {
    "collapsed": true
   },
   "outputs": [],
   "source": [
    "for tweet in tweets:\n",
    "    # Tweet's Text\n",
    "    print('Tweet: {}'.format(tweet.text))\n",
    "    # Sentiment Analysis on Tweet\n",
    "    analysis = TextBlob(tweet.text)\n",
    "    print('Polarity: {}'.format(analysis.polarity))\n",
    "    print('Subjectivity: {}'.format(analysis.subjectivity))\n",
    "    print(\"\")"
   ]
  }
 ],
 "metadata": {
  "kernelspec": {
   "display_name": "Python 2",
   "language": "python",
   "name": "python2"
  },
  "language_info": {
   "codemirror_mode": {
    "name": "ipython",
    "version": 2
   },
   "file_extension": ".py",
   "mimetype": "text/x-python",
   "name": "python",
   "nbconvert_exporter": "python",
   "pygments_lexer": "ipython2",
   "version": "2.7.14"
  }
 },
 "nbformat": 4,
 "nbformat_minor": 2
}
